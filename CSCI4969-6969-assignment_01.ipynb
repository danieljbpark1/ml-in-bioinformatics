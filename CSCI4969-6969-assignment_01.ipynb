{
 "cells": [
  {
   "cell_type": "markdown",
   "id": "33d22d68-a2a5-41ec-b51c-7da1bb1d5ff9",
   "metadata": {},
   "source": [
    "# Install and import packages"
   ]
  },
  {
   "cell_type": "code",
   "execution_count": 91,
   "id": "f3e8dd13-15b6-42d5-8f95-b87552d86635",
   "metadata": {
    "tags": []
   },
   "outputs": [
    {
     "name": "stdout",
     "output_type": "stream",
     "text": [
      "Requirement already satisfied: joblib in /opt/conda/lib/python3.10/site-packages (from -r requirements.txt (line 1)) (1.2.0)\n",
      "Requirement already satisfied: pandas in /opt/conda/lib/python3.10/site-packages (from -r requirements.txt (line 2)) (2.0.1)\n",
      "Requirement already satisfied: matplotlib in /opt/conda/lib/python3.10/site-packages (from -r requirements.txt (line 3)) (3.7.1)\n",
      "Requirement already satisfied: torch in /opt/conda/lib/python3.10/site-packages (from -r requirements.txt (line 4)) (2.0.0)\n",
      "Requirement already satisfied: ray[train,tune] in /opt/conda/lib/python3.10/site-packages (from -r requirements.txt (line 5)) (2.9.0)\n",
      "Requirement already satisfied: python-dateutil>=2.8.2 in /opt/conda/lib/python3.10/site-packages (from pandas->-r requirements.txt (line 2)) (2.8.2)\n",
      "Requirement already satisfied: pytz>=2020.1 in /opt/conda/lib/python3.10/site-packages (from pandas->-r requirements.txt (line 2)) (2023.3)\n",
      "Requirement already satisfied: tzdata>=2022.1 in /opt/conda/lib/python3.10/site-packages (from pandas->-r requirements.txt (line 2)) (2023.3)\n",
      "Requirement already satisfied: numpy>=1.21.0 in /opt/conda/lib/python3.10/site-packages (from pandas->-r requirements.txt (line 2)) (1.23.5)\n",
      "Requirement already satisfied: contourpy>=1.0.1 in /opt/conda/lib/python3.10/site-packages (from matplotlib->-r requirements.txt (line 3)) (1.0.7)\n",
      "Requirement already satisfied: cycler>=0.10 in /opt/conda/lib/python3.10/site-packages (from matplotlib->-r requirements.txt (line 3)) (0.11.0)\n",
      "Requirement already satisfied: fonttools>=4.22.0 in /opt/conda/lib/python3.10/site-packages (from matplotlib->-r requirements.txt (line 3)) (4.39.4)\n",
      "Requirement already satisfied: kiwisolver>=1.0.1 in /opt/conda/lib/python3.10/site-packages (from matplotlib->-r requirements.txt (line 3)) (1.4.4)\n",
      "Requirement already satisfied: packaging>=20.0 in /opt/conda/lib/python3.10/site-packages (from matplotlib->-r requirements.txt (line 3)) (23.1)\n",
      "Requirement already satisfied: pillow>=6.2.0 in /opt/conda/lib/python3.10/site-packages (from matplotlib->-r requirements.txt (line 3)) (9.4.0)\n",
      "Requirement already satisfied: pyparsing>=2.3.1 in /opt/conda/lib/python3.10/site-packages (from matplotlib->-r requirements.txt (line 3)) (3.0.9)\n",
      "Requirement already satisfied: filelock in /opt/conda/lib/python3.10/site-packages (from torch->-r requirements.txt (line 4)) (3.12.0)\n",
      "Requirement already satisfied: typing-extensions in /opt/conda/lib/python3.10/site-packages (from torch->-r requirements.txt (line 4)) (4.5.0)\n",
      "Requirement already satisfied: sympy in /opt/conda/lib/python3.10/site-packages (from torch->-r requirements.txt (line 4)) (1.11.1)\n",
      "Requirement already satisfied: networkx in /opt/conda/lib/python3.10/site-packages (from torch->-r requirements.txt (line 4)) (3.1)\n",
      "Requirement already satisfied: jinja2 in /opt/conda/lib/python3.10/site-packages (from torch->-r requirements.txt (line 4)) (3.1.2)\n",
      "Requirement already satisfied: click>=7.0 in /opt/conda/lib/python3.10/site-packages (from ray[train,tune]->-r requirements.txt (line 5)) (8.1.3)\n",
      "Requirement already satisfied: jsonschema in /opt/conda/lib/python3.10/site-packages (from ray[train,tune]->-r requirements.txt (line 5)) (4.17.3)\n",
      "Requirement already satisfied: msgpack<2.0.0,>=1.0.0 in /opt/conda/lib/python3.10/site-packages (from ray[train,tune]->-r requirements.txt (line 5)) (1.0.7)\n",
      "Requirement already satisfied: protobuf!=3.19.5,>=3.15.3 in /opt/conda/lib/python3.10/site-packages (from ray[train,tune]->-r requirements.txt (line 5)) (3.20.3)\n",
      "Requirement already satisfied: pyyaml in /opt/conda/lib/python3.10/site-packages (from ray[train,tune]->-r requirements.txt (line 5)) (5.4.1)\n",
      "Requirement already satisfied: aiosignal in /opt/conda/lib/python3.10/site-packages (from ray[train,tune]->-r requirements.txt (line 5)) (1.3.1)\n",
      "Requirement already satisfied: frozenlist in /opt/conda/lib/python3.10/site-packages (from ray[train,tune]->-r requirements.txt (line 5)) (1.4.1)\n",
      "Requirement already satisfied: requests in /opt/conda/lib/python3.10/site-packages (from ray[train,tune]->-r requirements.txt (line 5)) (2.28.2)\n",
      "Requirement already satisfied: tensorboardX>=1.9 in /opt/conda/lib/python3.10/site-packages (from ray[train,tune]->-r requirements.txt (line 5)) (2.6.2.2)\n",
      "Requirement already satisfied: pyarrow>=6.0.1 in /opt/conda/lib/python3.10/site-packages (from ray[train,tune]->-r requirements.txt (line 5)) (12.0.0)\n",
      "Requirement already satisfied: fsspec in /opt/conda/lib/python3.10/site-packages (from ray[train,tune]->-r requirements.txt (line 5)) (2023.5.0)\n",
      "Requirement already satisfied: six>=1.5 in /opt/conda/lib/python3.10/site-packages (from python-dateutil>=2.8.2->pandas->-r requirements.txt (line 2)) (1.16.0)\n",
      "Requirement already satisfied: MarkupSafe>=2.0 in /opt/conda/lib/python3.10/site-packages (from jinja2->torch->-r requirements.txt (line 4)) (2.1.2)\n",
      "Requirement already satisfied: attrs>=17.4.0 in /opt/conda/lib/python3.10/site-packages (from jsonschema->ray[train,tune]->-r requirements.txt (line 5)) (22.2.0)\n",
      "Requirement already satisfied: pyrsistent!=0.17.0,!=0.17.1,!=0.17.2,>=0.14.0 in /opt/conda/lib/python3.10/site-packages (from jsonschema->ray[train,tune]->-r requirements.txt (line 5)) (0.19.3)\n",
      "Requirement already satisfied: charset-normalizer<4,>=2 in /opt/conda/lib/python3.10/site-packages (from requests->ray[train,tune]->-r requirements.txt (line 5)) (2.1.1)\n",
      "Requirement already satisfied: idna<4,>=2.5 in /opt/conda/lib/python3.10/site-packages (from requests->ray[train,tune]->-r requirements.txt (line 5)) (3.4)\n",
      "Requirement already satisfied: urllib3<1.27,>=1.21.1 in /opt/conda/lib/python3.10/site-packages (from requests->ray[train,tune]->-r requirements.txt (line 5)) (1.26.14)\n",
      "Requirement already satisfied: certifi>=2017.4.17 in /opt/conda/lib/python3.10/site-packages (from requests->ray[train,tune]->-r requirements.txt (line 5)) (2023.5.7)\n",
      "Requirement already satisfied: mpmath>=0.19 in /opt/conda/lib/python3.10/site-packages (from sympy->torch->-r requirements.txt (line 4)) (1.3.0)\n",
      "\u001b[33mWARNING: Running pip as the 'root' user can result in broken permissions and conflicting behaviour with the system package manager. It is recommended to use a virtual environment instead: https://pip.pypa.io/warnings/venv\u001b[0m\u001b[33m\n",
      "\u001b[0m\u001b[33mWARNING: There was an error checking the latest version of pip.\u001b[0m\u001b[33m\n",
      "\u001b[0mNote: you may need to restart the kernel to use updated packages.\n"
     ]
    }
   ],
   "source": [
    "%pip install -r requirements.txt"
   ]
  },
  {
   "cell_type": "code",
   "execution_count": 93,
   "id": "78aeac2a-6d0b-4f91-b175-ba0da95fdb43",
   "metadata": {
    "tags": []
   },
   "outputs": [],
   "source": [
    "import pandas as pd\n",
    "import matplotlib.pyplot as plt\n",
    "\n",
    "import joblib\n",
    "\n",
    "import torch\n",
    "import torch.nn as nn\n",
    "import torch.nn.functional as F\n",
    "import torch.optim as optim\n",
    "from torch.utils.data import Dataset, DataLoader\n",
    "\n",
    "from ray import train, tune\n",
    "from ray.train import Checkpoint\n",
    "import ray.train.torch\n",
    "from ray.tune.schedulers import ASHAScheduler\n"
   ]
  },
  {
   "cell_type": "markdown",
   "id": "e664caf2-d156-4729-a183-1b4199a00b71",
   "metadata": {},
   "source": [
    "# Custom Dataset class for JUND transcription factor data"
   ]
  },
  {
   "cell_type": "code",
   "execution_count": 72,
   "id": "a6ed4552-070a-4c77-8c6e-16d8bdf2a200",
   "metadata": {
    "tags": []
   },
   "outputs": [],
   "source": [
    "class JUND_Dataset(Dataset):\n",
    "    def __init__(self, data_dir):\n",
    "        \"\"\"Loads X, y, w, a from data_dir.\"\"\"\n",
    "        super().__init__()\n",
    "        \n",
    "        # load X, y, w, a from data_dir\n",
    "        X = joblib.load(f\"{data_dir}/shard-0-X.joblib\")\n",
    "        y = joblib.load(f\"{data_dir}/shard-0-y.joblib\")\n",
    "        w = joblib.load(f\"{data_dir}/shard-0-w.joblib\")\n",
    "        a = joblib.load(f\"{data_dir}/shard-0-a.joblib\")\n",
    "        \n",
    "        # convert them into torch tensors\n",
    "        self.X = torch.tensor(data=X, dtype=torch.float32)\n",
    "        self.y = torch.tensor(data=y, dtype=torch.int8)\n",
    "        self.w = torch.tensor(data=w, dtype=torch.float32)\n",
    "        self.a = torch.tensor(data=a, dtype=torch.float32)\n",
    "        \n",
    "    def __len__(self):\n",
    "        \"\"\"Returns length of dataset.\"\"\"\n",
    "        return self.X.size(dim=0)\n",
    "        \n",
    "    def __getitem__(self, idx):\n",
    "        \"\"\"Returns X, y, w, a values at index idx.\"\"\"\n",
    "        return self.X[idx], self.y[idx], self.w[idx], self.a[idx]"
   ]
  },
  {
   "cell_type": "markdown",
   "id": "4c104a37-189b-4d35-b5da-696b0ed4e8c4",
   "metadata": {},
   "source": [
    "# MLP Model"
   ]
  },
  {
   "cell_type": "code",
   "execution_count": 74,
   "id": "82b45772-7e56-4257-a502-18f54c9ac4e5",
   "metadata": {},
   "outputs": [],
   "source": [
    "class MLP(nn.Module):\n",
    "    def __init__(self, hidden_layer_size: int):\n",
    "        \"\"\"Initializes a multi-layer perceptron model.\n",
    "        \n",
    "        Args:\n",
    "            hidden_layer_size (int): Size of hidden layer.\n",
    "        \"\"\"\n",
    "        super().__init__()\n",
    "        \n",
    "        # one batch of samples has dimensions [B, 101, 4]\n",
    "        # where B is the number of samples in the batch\n",
    "        self.flatten = nn.Flatten(start_dim=1)\n",
    "        self.hidden_layer = nn.Linear(in_features=404, out_features=hidden_layer_size)\n",
    "        self.output_layer = nn.Linear(in_features=hidden_layer_size + 1, out_features=1)\n",
    "    \n",
    "    def forward(self, x_batch: torch.Tensor, a_batch: torch.Tensor):\n",
    "        \"\"\"Performs forward pass with a batch of data.\n",
    "        \n",
    "        Args:\n",
    "            x_batch (torch.Tensor): Batch of Chr22 segments. Tensor size [B, 101, 4]\n",
    "            a_batch (torch.Tensor): Batch of accessibility values per segment. Tensor size [B, 1]\n",
    "        \n",
    "        \"\"\"\n",
    "        x = self.flatten(x_batch)  # x now has size [B, 404]\n",
    "        \n",
    "        x = self.hidden_layer(x)  # [B, hidden_layer_size]\n",
    "        x = F.relu(x)\n",
    "        x = F.dropout(input=x, p=0.3)\n",
    "        \n",
    "        x = torch.cat((x, a_batch), dim=1)  # [B, hidden_layer_size + 1]\n",
    "        \n",
    "        x = self.output_layer(x)  # [B, 1]\n",
    "        \n",
    "        return x"
   ]
  },
  {
   "cell_type": "markdown",
   "id": "82cfeecf-8271-4920-ad72-74d7dfd084a4",
   "metadata": {},
   "source": [
    "# Define training and validation data loading function"
   ]
  },
  {
   "cell_type": "code",
   "execution_count": 61,
   "id": "fb1ea2c3-96f2-4fb2-9594-0e810cba1441",
   "metadata": {
    "tags": []
   },
   "outputs": [],
   "source": [
    "def get_datasets(\n",
    "    train_dir=\"./data/JUND/train\", \n",
    "    val_dir=\"./data/JUND/validation\", \n",
    "):\n",
    "    \"\"\"Returns training and validation Dataset objects.\n",
    "    \n",
    "    Args:\n",
    "        train_dir (str): Path to training data directory.\n",
    "        val_dir (str): Path to validation data directory.    \n",
    "    \"\"\"\n",
    "    trainset = JUND_Dataset(data_dir=train_dir)\n",
    "    valset = JUND_Dataset(data_dir=val_dir)\n",
    "\n",
    "    return trainset, valset"
   ]
  },
  {
   "cell_type": "markdown",
   "id": "789e2e12-0956-40db-9b73-b114b1d4b0dd",
   "metadata": {
    "tags": []
   },
   "source": [
    "# Define training and evaluation functions"
   ]
  },
  {
   "cell_type": "code",
   "execution_count": 88,
   "id": "b7a8ac63-a133-4db8-81ac-f6a090269ecc",
   "metadata": {},
   "outputs": [],
   "source": [
    "def train_func(\n",
    "    model,\n",
    "    device,\n",
    "    optimizer,\n",
    "    data_loader,\n",
    "):\n",
    "    \"\"\"Performs 1 epoch of training by mini-batch.\n",
    "    \"\"\"\n",
    "    model.train()\n",
    "    for batch_idx, data in enumerate(data_loader):\n",
    "        # get the inputs; data is a list of [X, y, w, a]\n",
    "        X, y, w, a = data\n",
    "        X, y, w, a = X.to(device), y.to(device), w.to(device), a.to(device)\n",
    "\n",
    "        # zero the parameter gradients\n",
    "        optimizer.zero_grad()\n",
    "\n",
    "        # forward + backward + optimize\n",
    "        model_output = model(x_batch=X, a_batch=a)\n",
    "        loss = F.binary_cross_entropy_with_logits(\n",
    "            input=model_output, \n",
    "            target=y.to(torch.float32),\n",
    "            weight=w,\n",
    "        )\n",
    "        loss.backward()\n",
    "        optimizer.step()\n",
    "    \n",
    "def eval_func(\n",
    "    model,\n",
    "    device,\n",
    "    data_loader,\n",
    "):\n",
    "    \"\"\"Performs 1 epoch of evaluation on validation data by mini-batch.\n",
    "    \"\"\"\n",
    "    model.eval()\n",
    "    total_weight = 0.\n",
    "    correct_weight = 0.\n",
    "    with torch.no_grad():\n",
    "        for data in data_loader:\n",
    "            # get the inputs; data is a list of [X, y, w, a]\n",
    "            X, y, w, a = data\n",
    "            X, y, w, a = X.to(device), y.to(device), w.to(device), a.to(device)\n",
    "            \n",
    "            model_output = model(x_batch=X, a_batch=a)\n",
    "            \n",
    "            y_pred = F.sigmoid(model_output).round()\n",
    "            \n",
    "            total_weight += torch.sum(w)\n",
    "            correct_weight += torch.sum(w * (torch.eq(input=y, other=y_pred)))\n",
    "    \n",
    "    acc = correct_weight / total_weight\n",
    "    return acc.item()\n",
    "\n",
    "def objective_func(\n",
    "    config, \n",
    "    train_dir=\"./data/JUND/train\", \n",
    "    val_dir=\"./data/JUND/validation\", \n",
    "):\n",
    "    \"\"\"Performs epochs of model training and validation.\n",
    "    \"\"\"\n",
    "    model = MLP(\n",
    "        hidden_layer_size=config[\"hidden_layer_size\"],\n",
    "    )\n",
    "    \n",
    "    device = \"cuda:0\" if torch.cuda.is_available() else \"cpu\" \n",
    "    \n",
    "    if torch.cuda.device_count() > 1:\n",
    "        model = nn.DataParallel(model)\n",
    "        \n",
    "    model.to(device)\n",
    "\n",
    "    optimizer = optim.Adam(params=model.parameters(), lr=config[\"lr\"],)\n",
    "\n",
    "    trainset, valset = get_datasets(train_dir=train_dir, val_dir=val_dir) \n",
    "\n",
    "    trainloader = DataLoader(\n",
    "        dataset=trainset, \n",
    "        batch_size=int(config[\"batch_size\"]), \n",
    "        shuffle=True,\n",
    "        num_workers=2,\n",
    "    )\n",
    "                                        \n",
    "    valloader = DataLoader(\n",
    "        dataset=valset,\n",
    "        batch_size=int(config[\"batch_size\"]),\n",
    "        shuffle=True,\n",
    "        num_workers=2,\n",
    "    )\n",
    "    \n",
    "    metrics = []\n",
    "    for epoch in range(config[\"max_epochs\"]):  # loop over the dataset multiple times\n",
    "        train_func(\n",
    "            model=model,\n",
    "            device=device,\n",
    "            optimizer=optimizer,\n",
    "            data_loader=trainloader,\n",
    "        )\n",
    "                                        \n",
    "        acc_epoch = eval_func(\n",
    "            model=model,\n",
    "            device=device,\n",
    "            data_loader=valloader,\n",
    "        )\n",
    "\n",
    "        metrics.append({\n",
    "            \"Epoch\": epoch + 1,\n",
    "            \"Weighted accuracy\": acc_epoch,\n",
    "        })\n",
    "        print(f\"Epoch {epoch + 1}, Weighted accuracy: {acc_epoch}\")\n",
    "                                        \n",
    "    return model, metrics\n"
   ]
  },
  {
   "cell_type": "markdown",
   "id": "f99c18c8-ce4f-4b41-bb98-23f02eb19067",
   "metadata": {},
   "source": [
    "# Model training"
   ]
  },
  {
   "cell_type": "code",
   "execution_count": 89,
   "id": "eeea3cbb-2983-4a80-8642-5c9eda4bd1ae",
   "metadata": {
    "tags": []
   },
   "outputs": [],
   "source": [
    "config = {\n",
    "    \"hidden_layer_size\": 128,\n",
    "    \"lr\": 0.01,\n",
    "    \"batch_size\": 64,\n",
    "    \"max_epochs\": 20,\n",
    "}\n",
    "\n",
    "trained_model, training_metrics = objective_func(\n",
    "    config=config,\n",
    ")"
   ]
  },
  {
   "cell_type": "code",
   "execution_count": 126,
   "id": "655e81a2-85b0-413a-9b15-c7db1fa0bf50",
   "metadata": {
    "tags": []
   },
   "outputs": [
    {
     "data": {
      "image/png": "[encoded data removed]",
      "text/plain": [
       "<Figure size 640x480 with 1 Axes>"
      ]
     },
     "metadata": {},
     "output_type": "display_data"
    }
   ],
   "source": [
    "training_metrics = pd.DataFrame(training_metrics)\n",
    "\n",
    "ax = training_metrics.plot.line(x=\"Epoch\", y=\"Weighted accuracy\")\n",
    "ax.set(title=\"Validation set metrics over training iterations\")\n",
    "ax.set_xlim(left=0)\n",
    "ax.set_xticks(ticks=[*range(0, 20 + 1, 5)])\n",
    "plt.legend(loc=\"lower right\")\n",
    "plt.show()"
   ]
  },
  {
   "cell_type": "markdown",
   "id": "1ab1f2d4-7811-492e-96c9-b3ae88759553",
   "metadata": {},
   "source": [
    "# Define test set evaluation function"
   ]
  },
  {
   "cell_type": "code",
   "execution_count": 124,
   "id": "ceef7f49-6e4a-4f39-a436-40a0b42b7162",
   "metadata": {
    "tags": []
   },
   "outputs": [],
   "source": [
    "def test_best_model(best_model, test_dir=\"./data/JUND/test\"):\n",
    "    device = \"cuda:0\" if torch.cuda.is_available() else \"cpu\" \n",
    "    \n",
    "    if torch.cuda.device_count() > 1:\n",
    "        best_model = nn.DataParallel(best_model)\n",
    "        \n",
    "    best_model.to(device)\n",
    "\n",
    "    testset = JUND_Dataset(data_dir=test_dir)\n",
    "    \n",
    "    testloader = DataLoader(\n",
    "        testset, \n",
    "        batch_size=512, \n",
    "        shuffle=False, \n",
    "        num_workers=2\n",
    "    )\n",
    "\n",
    "    acc = eval_func(\n",
    "        model=best_model,\n",
    "        data_loader=testloader,\n",
    "        device=device,\n",
    "    )\n",
    "    \n",
    "    return acc\n",
    "    "
   ]
  },
  {
   "cell_type": "markdown",
   "id": "d81eb94e-2f38-4bdf-8e65-c9c7b6b1918b",
   "metadata": {},
   "source": [
    "# Test set accuracy"
   ]
  },
  {
   "cell_type": "code",
   "execution_count": 125,
   "id": "1a4f39cf-c05d-4e25-8109-09fb0bb70894",
   "metadata": {
    "tags": []
   },
   "outputs": [
    {
     "data": {
      "text/plain": [
       "0.7316304445266724"
      ]
     },
     "execution_count": 125,
     "metadata": {},
     "output_type": "execute_result"
    }
   ],
   "source": [
    "test_best_model(best_model=trained_model)"
   ]
  }
 ],
 "metadata": {
  "availableInstances": [
   {
    "_defaultOrder": 0,
    "_isFastLaunch": true,
    "category": "General purpose",
    "gpuNum": 0,
    "hideHardwareSpecs": false,
    "memoryGiB": 4,
    "name": "ml.t3.medium",
    "vcpuNum": 2
   },
   {
    "_defaultOrder": 1,
    "_isFastLaunch": false,
    "category": "General purpose",
    "gpuNum": 0,
    "hideHardwareSpecs": false,
    "memoryGiB": 8,
    "name": "ml.t3.large",
    "vcpuNum": 2
   },
   {
    "_defaultOrder": 2,
    "_isFastLaunch": false,
    "category": "General purpose",
    "gpuNum": 0,
    "hideHardwareSpecs": false,
    "memoryGiB": 16,
    "name": "ml.t3.xlarge",
    "vcpuNum": 4
   },
   {
    "_defaultOrder": 3,
    "_isFastLaunch": false,
    "category": "General purpose",
    "gpuNum": 0,
    "hideHardwareSpecs": false,
    "memoryGiB": 32,
    "name": "ml.t3.2xlarge",
    "vcpuNum": 8
   },
   {
    "_defaultOrder": 4,
    "_isFastLaunch": true,
    "category": "General purpose",
    "gpuNum": 0,
    "hideHardwareSpecs": false,
    "memoryGiB": 8,
    "name": "ml.m5.large",
    "vcpuNum": 2
   },
   {
    "_defaultOrder": 5,
    "_isFastLaunch": false,
    "category": "General purpose",
    "gpuNum": 0,
    "hideHardwareSpecs": false,
    "memoryGiB": 16,
    "name": "ml.m5.xlarge",
    "vcpuNum": 4
   },
   {
    "_defaultOrder": 6,
    "_isFastLaunch": false,
    "category": "General purpose",
    "gpuNum": 0,
    "hideHardwareSpecs": false,
    "memoryGiB": 32,
    "name": "ml.m5.2xlarge",
    "vcpuNum": 8
   },
   {
    "_defaultOrder": 7,
    "_isFastLaunch": false,
    "category": "General purpose",
    "gpuNum": 0,
    "hideHardwareSpecs": false,
    "memoryGiB": 64,
    "name": "ml.m5.4xlarge",
    "vcpuNum": 16
   },
   {
    "_defaultOrder": 8,
    "_isFastLaunch": false,
    "category": "General purpose",
    "gpuNum": 0,
    "hideHardwareSpecs": false,
    "memoryGiB": 128,
    "name": "ml.m5.8xlarge",
    "vcpuNum": 32
   },
   {
    "_defaultOrder": 9,
    "_isFastLaunch": false,
    "category": "General purpose",
    "gpuNum": 0,
    "hideHardwareSpecs": false,
    "memoryGiB": 192,
    "name": "ml.m5.12xlarge",
    "vcpuNum": 48
   },
   {
    "_defaultOrder": 10,
    "_isFastLaunch": false,
    "category": "General purpose",
    "gpuNum": 0,
    "hideHardwareSpecs": false,
    "memoryGiB": 256,
    "name": "ml.m5.16xlarge",
    "vcpuNum": 64
   },
   {
    "_defaultOrder": 11,
    "_isFastLaunch": false,
    "category": "General purpose",
    "gpuNum": 0,
    "hideHardwareSpecs": false,
    "memoryGiB": 384,
    "name": "ml.m5.24xlarge",
    "vcpuNum": 96
   },
   {
    "_defaultOrder": 12,
    "_isFastLaunch": false,
    "category": "General purpose",
    "gpuNum": 0,
    "hideHardwareSpecs": false,
    "memoryGiB": 8,
    "name": "ml.m5d.large",
    "vcpuNum": 2
   },
   {
    "_defaultOrder": 13,
    "_isFastLaunch": false,
    "category": "General purpose",
    "gpuNum": 0,
    "hideHardwareSpecs": false,
    "memoryGiB": 16,
    "name": "ml.m5d.xlarge",
    "vcpuNum": 4
   },
   {
    "_defaultOrder": 14,
    "_isFastLaunch": false,
    "category": "General purpose",
    "gpuNum": 0,
    "hideHardwareSpecs": false,
    "memoryGiB": 32,
    "name": "ml.m5d.2xlarge",
    "vcpuNum": 8
   },
   {
    "_defaultOrder": 15,
    "_isFastLaunch": false,
    "category": "General purpose",
    "gpuNum": 0,
    "hideHardwareSpecs": false,
    "memoryGiB": 64,
    "name": "ml.m5d.4xlarge",
    "vcpuNum": 16
   },
   {
    "_defaultOrder": 16,
    "_isFastLaunch": false,
    "category": "General purpose",
    "gpuNum": 0,
    "hideHardwareSpecs": false,
    "memoryGiB": 128,
    "name": "ml.m5d.8xlarge",
    "vcpuNum": 32
   },
   {
    "_defaultOrder": 17,
    "_isFastLaunch": false,
    "category": "General purpose",
    "gpuNum": 0,
    "hideHardwareSpecs": false,
    "memoryGiB": 192,
    "name": "ml.m5d.12xlarge",
    "vcpuNum": 48
   },
   {
    "_defaultOrder": 18,
    "_isFastLaunch": false,
    "category": "General purpose",
    "gpuNum": 0,
    "hideHardwareSpecs": false,
    "memoryGiB": 256,
    "name": "ml.m5d.16xlarge",
    "vcpuNum": 64
   },
   {
    "_defaultOrder": 19,
    "_isFastLaunch": false,
    "category": "General purpose",
    "gpuNum": 0,
    "hideHardwareSpecs": false,
    "memoryGiB": 384,
    "name": "ml.m5d.24xlarge",
    "vcpuNum": 96
   },
   {
    "_defaultOrder": 20,
    "_isFastLaunch": false,
    "category": "General purpose",
    "gpuNum": 0,
    "hideHardwareSpecs": true,
    "memoryGiB": 0,
    "name": "ml.geospatial.interactive",
    "supportedImageNames": [
     "sagemaker-geospatial-v1-0"
    ],
    "vcpuNum": 0
   },
   {
    "_defaultOrder": 21,
    "_isFastLaunch": true,
    "category": "Compute optimized",
    "gpuNum": 0,
    "hideHardwareSpecs": false,
    "memoryGiB": 4,
    "name": "ml.c5.large",
    "vcpuNum": 2
   },
   {
    "_defaultOrder": 22,
    "_isFastLaunch": false,
    "category": "Compute optimized",
    "gpuNum": 0,
    "hideHardwareSpecs": false,
    "memoryGiB": 8,
    "name": "ml.c5.xlarge",
    "vcpuNum": 4
   },
   {
    "_defaultOrder": 23,
    "_isFastLaunch": false,
    "category": "Compute optimized",
    "gpuNum": 0,
    "hideHardwareSpecs": false,
    "memoryGiB": 16,
    "name": "ml.c5.2xlarge",
    "vcpuNum": 8
   },
   {
    "_defaultOrder": 24,
    "_isFastLaunch": false,
    "category": "Compute optimized",
    "gpuNum": 0,
    "hideHardwareSpecs": false,
    "memoryGiB": 32,
    "name": "ml.c5.4xlarge",
    "vcpuNum": 16
   },
   {
    "_defaultOrder": 25,
    "_isFastLaunch": false,
    "category": "Compute optimized",
    "gpuNum": 0,
    "hideHardwareSpecs": false,
    "memoryGiB": 72,
    "name": "ml.c5.9xlarge",
    "vcpuNum": 36
   },
   {
    "_defaultOrder": 26,
    "_isFastLaunch": false,
    "category": "Compute optimized",
    "gpuNum": 0,
    "hideHardwareSpecs": false,
    "memoryGiB": 96,
    "name": "ml.c5.12xlarge",
    "vcpuNum": 48
   },
   {
    "_defaultOrder": 27,
    "_isFastLaunch": false,
    "category": "Compute optimized",
    "gpuNum": 0,
    "hideHardwareSpecs": false,
    "memoryGiB": 144,
    "name": "ml.c5.18xlarge",
    "vcpuNum": 72
   },
   {
    "_defaultOrder": 28,
    "_isFastLaunch": false,
    "category": "Compute optimized",
    "gpuNum": 0,
    "hideHardwareSpecs": false,
    "memoryGiB": 192,
    "name": "ml.c5.24xlarge",
    "vcpuNum": 96
   },
   {
    "_defaultOrder": 29,
    "_isFastLaunch": true,
    "category": "Accelerated computing",
    "gpuNum": 1,
    "hideHardwareSpecs": false,
    "memoryGiB": 16,
    "name": "ml.g4dn.xlarge",
    "vcpuNum": 4
   },
   {
    "_defaultOrder": 30,
    "_isFastLaunch": false,
    "category": "Accelerated computing",
    "gpuNum": 1,
    "hideHardwareSpecs": false,
    "memoryGiB": 32,
    "name": "ml.g4dn.2xlarge",
    "vcpuNum": 8
   },
   {
    "_defaultOrder": 31,
    "_isFastLaunch": false,
    "category": "Accelerated computing",
    "gpuNum": 1,
    "hideHardwareSpecs": false,
    "memoryGiB": 64,
    "name": "ml.g4dn.4xlarge",
    "vcpuNum": 16
   },
   {
    "_defaultOrder": 32,
    "_isFastLaunch": false,
    "category": "Accelerated computing",
    "gpuNum": 1,
    "hideHardwareSpecs": false,
    "memoryGiB": 128,
    "name": "ml.g4dn.8xlarge",
    "vcpuNum": 32
   },
   {
    "_defaultOrder": 33,
    "_isFastLaunch": false,
    "category": "Accelerated computing",
    "gpuNum": 4,
    "hideHardwareSpecs": false,
    "memoryGiB": 192,
    "name": "ml.g4dn.12xlarge",
    "vcpuNum": 48
   },
   {
    "_defaultOrder": 34,
    "_isFastLaunch": false,
    "category": "Accelerated computing",
    "gpuNum": 1,
    "hideHardwareSpecs": false,
    "memoryGiB": 256,
    "name": "ml.g4dn.16xlarge",
    "vcpuNum": 64
   },
   {
    "_defaultOrder": 35,
    "_isFastLaunch": false,
    "category": "Accelerated computing",
    "gpuNum": 1,
    "hideHardwareSpecs": false,
    "memoryGiB": 61,
    "name": "ml.p3.2xlarge",
    "vcpuNum": 8
   },
   {
    "_defaultOrder": 36,
    "_isFastLaunch": false,
    "category": "Accelerated computing",
    "gpuNum": 4,
    "hideHardwareSpecs": false,
    "memoryGiB": 244,
    "name": "ml.p3.8xlarge",
    "vcpuNum": 32
   },
   {
    "_defaultOrder": 37,
    "_isFastLaunch": false,
    "category": "Accelerated computing",
    "gpuNum": 8,
    "hideHardwareSpecs": false,
    "memoryGiB": 488,
    "name": "ml.p3.16xlarge",
    "vcpuNum": 64
   },
   {
    "_defaultOrder": 38,
    "_isFastLaunch": false,
    "category": "Accelerated computing",
    "gpuNum": 8,
    "hideHardwareSpecs": false,
    "memoryGiB": 768,
    "name": "ml.p3dn.24xlarge",
    "vcpuNum": 96
   },
   {
    "_defaultOrder": 39,
    "_isFastLaunch": false,
    "category": "Memory Optimized",
    "gpuNum": 0,
    "hideHardwareSpecs": false,
    "memoryGiB": 16,
    "name": "ml.r5.large",
    "vcpuNum": 2
   },
   {
    "_defaultOrder": 40,
    "_isFastLaunch": false,
    "category": "Memory Optimized",
    "gpuNum": 0,
    "hideHardwareSpecs": false,
    "memoryGiB": 32,
    "name": "ml.r5.xlarge",
    "vcpuNum": 4
   },
   {
    "_defaultOrder": 41,
    "_isFastLaunch": false,
    "category": "Memory Optimized",
    "gpuNum": 0,
    "hideHardwareSpecs": false,
    "memoryGiB": 64,
    "name": "ml.r5.2xlarge",
    "vcpuNum": 8
   },
   {
    "_defaultOrder": 42,
    "_isFastLaunch": false,
    "category": "Memory Optimized",
    "gpuNum": 0,
    "hideHardwareSpecs": false,
    "memoryGiB": 128,
    "name": "ml.r5.4xlarge",
    "vcpuNum": 16
   },
   {
    "_defaultOrder": 43,
    "_isFastLaunch": false,
    "category": "Memory Optimized",
    "gpuNum": 0,
    "hideHardwareSpecs": false,
    "memoryGiB": 256,
    "name": "ml.r5.8xlarge",
    "vcpuNum": 32
   },
   {
    "_defaultOrder": 44,
    "_isFastLaunch": false,
    "category": "Memory Optimized",
    "gpuNum": 0,
    "hideHardwareSpecs": false,
    "memoryGiB": 384,
    "name": "ml.r5.12xlarge",
    "vcpuNum": 48
   },
   {
    "_defaultOrder": 45,
    "_isFastLaunch": false,
    "category": "Memory Optimized",
    "gpuNum": 0,
    "hideHardwareSpecs": false,
    "memoryGiB": 512,
    "name": "ml.r5.16xlarge",
    "vcpuNum": 64
   },
   {
    "_defaultOrder": 46,
    "_isFastLaunch": false,
    "category": "Memory Optimized",
    "gpuNum": 0,
    "hideHardwareSpecs": false,
    "memoryGiB": 768,
    "name": "ml.r5.24xlarge",
    "vcpuNum": 96
   },
   {
    "_defaultOrder": 47,
    "_isFastLaunch": false,
    "category": "Accelerated computing",
    "gpuNum": 1,
    "hideHardwareSpecs": false,
    "memoryGiB": 16,
    "name": "ml.g5.xlarge",
    "vcpuNum": 4
   },
   {
    "_defaultOrder": 48,
    "_isFastLaunch": false,
    "category": "Accelerated computing",
    "gpuNum": 1,
    "hideHardwareSpecs": false,
    "memoryGiB": 32,
    "name": "ml.g5.2xlarge",
    "vcpuNum": 8
   },
   {
    "_defaultOrder": 49,
    "_isFastLaunch": false,
    "category": "Accelerated computing",
    "gpuNum": 1,
    "hideHardwareSpecs": false,
    "memoryGiB": 64,
    "name": "ml.g5.4xlarge",
    "vcpuNum": 16
   },
   {
    "_defaultOrder": 50,
    "_isFastLaunch": false,
    "category": "Accelerated computing",
    "gpuNum": 1,
    "hideHardwareSpecs": false,
    "memoryGiB": 128,
    "name": "ml.g5.8xlarge",
    "vcpuNum": 32
   },
   {
    "_defaultOrder": 51,
    "_isFastLaunch": false,
    "category": "Accelerated computing",
    "gpuNum": 1,
    "hideHardwareSpecs": false,
    "memoryGiB": 256,
    "name": "ml.g5.16xlarge",
    "vcpuNum": 64
   },
   {
    "_defaultOrder": 52,
    "_isFastLaunch": false,
    "category": "Accelerated computing",
    "gpuNum": 4,
    "hideHardwareSpecs": false,
    "memoryGiB": 192,
    "name": "ml.g5.12xlarge",
    "vcpuNum": 48
   },
   {
    "_defaultOrder": 53,
    "_isFastLaunch": false,
    "category": "Accelerated computing",
    "gpuNum": 4,
    "hideHardwareSpecs": false,
    "memoryGiB": 384,
    "name": "ml.g5.24xlarge",
    "vcpuNum": 96
   },
   {
    "_defaultOrder": 54,
    "_isFastLaunch": false,
    "category": "Accelerated computing",
    "gpuNum": 8,
    "hideHardwareSpecs": false,
    "memoryGiB": 768,
    "name": "ml.g5.48xlarge",
    "vcpuNum": 192
   },
   {
    "_defaultOrder": 55,
    "_isFastLaunch": false,
    "category": "Accelerated computing",
    "gpuNum": 8,
    "hideHardwareSpecs": false,
    "memoryGiB": 1152,
    "name": "ml.p4d.24xlarge",
    "vcpuNum": 96
   },
   {
    "_defaultOrder": 56,
    "_isFastLaunch": false,
    "category": "Accelerated computing",
    "gpuNum": 8,
    "hideHardwareSpecs": false,
    "memoryGiB": 1152,
    "name": "ml.p4de.24xlarge",
    "vcpuNum": 96
   }
  ],
  "instance_type": "ml.t3.medium",
  "kernelspec": {
   "display_name": "csci4969",
   "language": "python",
   "name": "python3"
  },
  "language_info": {
   "codemirror_mode": {
    "name": "ipython",
    "version": 3
   },
   "file_extension": ".py",
   "mimetype": "text/x-python",
   "name": "python",
   "nbconvert_exporter": "python",
   "pygments_lexer": "ipython3",
   "version": "3.10.13"
  }
 },
 "nbformat": 4,
 "nbformat_minor": 5
}
