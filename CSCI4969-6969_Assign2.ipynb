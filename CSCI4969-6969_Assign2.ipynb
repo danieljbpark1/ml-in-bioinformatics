{
 "cells": [
  {
   "cell_type": "markdown",
   "metadata": {},
   "source": [
    "# Install and import packages"
   ]
  },
  {
   "cell_type": "code",
   "execution_count": 3,
   "metadata": {},
   "outputs": [
    {
     "name": "stderr",
     "output_type": "stream",
     "text": [
      "/Users/danieljbpark/anaconda3/envs/csci4969/lib/python3.10/site-packages/tqdm/auto.py:21: TqdmWarning: IProgress not found. Please update jupyter and ipywidgets. See https://ipywidgets.readthedocs.io/en/stable/user_install.html\n",
      "  from .autonotebook import tqdm as notebook_tqdm\n"
     ]
    }
   ],
   "source": [
    "from dotenv import load_dotenv\n",
    "import matplotlib.pyplot as plt\n",
    "import optuna\n",
    "from optuna.trial import TrialState\n",
    "import os\n",
    "import pandas as pd\n",
    "import torch\n",
    "\n",
    "from training_JUND import get_dataloader, Objective_LSTM, Objective_CNN, validate_epoch"
   ]
  },
  {
   "cell_type": "code",
   "execution_count": 5,
   "metadata": {},
   "outputs": [],
   "source": [
    "load_dotenv()\n",
    "\n",
    "DATA_DIR_TRAIN = os.getenv(\"DATA_DIR_TRAIN\")\n",
    "DATA_DIR_VALIDATION = os.getenv(\"DATA_DIR_VALIDATION\")\n",
    "DATA_DIR_TEST = os.getenv(\"DATA_DIR_TEST\")\n"
   ]
  },
  {
   "cell_type": "markdown",
   "metadata": {},
   "source": [
    "# Train LSTM model and tune hyperparameters\n"
   ]
  },
  {
   "cell_type": "code",
   "execution_count": null,
   "metadata": {},
   "outputs": [],
   "source": [
    "\n",
    "objective = Objective_LSTM(\n",
    "    data_dir_train=DATA_DIR_TRAIN,\n",
    "    data_dir_validation=DATA_DIR_VALIDATION,\n",
    ")\n",
    "\n",
    "study = optuna.create_study(direction=\"maximize\")\n",
    "study.optimize(func=objective, n_trials=20, timeout=1800, callbacks=[objective.callback])"
   ]
  },
  {
   "cell_type": "markdown",
   "metadata": {},
   "source": [
    "# Evaluate best LSTM model's performance on test set"
   ]
  },
  {
   "cell_type": "code",
   "execution_count": 4,
   "metadata": {},
   "outputs": [
    {
     "name": "stdout",
     "output_type": "stream",
     "text": [
      "Study statistics: \n",
      "  Number of finished trials:  2\n",
      "  Number of pruned trials:  0\n",
      "  Number of complete trials:  2\n",
      "Best trial:\n",
      "  Value:  0.7309251427650452\n",
      "  Params: \n",
      "    epochs: 30\n",
      "    LSTM_hidden_layer_size: 64\n",
      "    MLP_hidden_layer_size: 32\n",
      "    lr: 0.007721101990901195\n",
      "Accuracy of best model after hyperparameter tuning on test dataset:  0.7308103442192078\n"
     ]
    }
   ],
   "source": [
    "pruned_trials = study.get_trials(deepcopy=False, states=[TrialState.PRUNED])\n",
    "complete_trials = study.get_trials(deepcopy=False, states=[TrialState.COMPLETE])\n",
    "\n",
    "print(\"Study statistics: \")\n",
    "print(\"  Number of finished trials: \", len(study.trials))\n",
    "print(\"  Number of pruned trials: \", len(pruned_trials))\n",
    "print(\"  Number of complete trials: \", len(complete_trials))\n",
    "\n",
    "print(\"Best trial:\")\n",
    "trial = study.best_trial\n",
    "\n",
    "print(\"  Value: \", trial.value)\n",
    "\n",
    "print(\"  Params: \")\n",
    "for key, value in trial.params.items():\n",
    "    print(\"    {}: {}\".format(key, value))\n",
    "\n",
    "dataloader_test = get_dataloader(data_dir=DATA_DIR_TEST, batch_size=1024)\n",
    "accuracy_test = validate_epoch(\n",
    "    model=objective.best_model,\n",
    "    data_loader=dataloader_test,\n",
    "    device=\"cuda:0\" if torch.cuda.is_available() else \"cpu\",\n",
    ")\n",
    "print(\"Accuracy of best model after hyperparameter tuning on test dataset: \", accuracy_test)"
   ]
  },
  {
   "cell_type": "markdown",
   "metadata": {},
   "source": [
    "# Train CNN model and tune hyperparameters"
   ]
  },
  {
   "cell_type": "code",
   "execution_count": 6,
   "metadata": {},
   "outputs": [
    {
     "name": "stderr",
     "output_type": "stream",
     "text": [
      "[I 2024-03-17 17:58:21,499] A new study created in memory with name: no-name-2a1500c7-1762-4e7b-8906-250360b615cd\n",
      "[I 2024-03-17 18:02:12,431] Trial 0 finished with value: 0.7266857624053955 and parameters: {'epochs': 20, 'lr': 0.04040841784535208, 'conv_layer_1_num_channels': 4, 'conv_layer_1_kernel_size': 5, 'conv_layer_2_num_channels': 16, 'conv_layer_2_kernel_size': 9, 'MLP_hidden_layer_size': 64}. Best is trial 0 with value: 0.7266857624053955.\n",
      "[I 2024-03-17 18:04:23,613] Trial 1 finished with value: 0.7245259284973145 and parameters: {'epochs': 10, 'lr': 0.010380926825107186, 'conv_layer_1_num_channels': 16, 'conv_layer_1_kernel_size': 3, 'conv_layer_2_num_channels': 16, 'conv_layer_2_kernel_size': 3, 'MLP_hidden_layer_size': 64}. Best is trial 0 with value: 0.7266857624053955.\n",
      "[I 2024-03-17 18:09:15,376] Trial 2 finished with value: 0.7328217029571533 and parameters: {'epochs': 30, 'lr': 0.04886979430156351, 'conv_layer_1_num_channels': 8, 'conv_layer_1_kernel_size': 3, 'conv_layer_2_num_channels': 4, 'conv_layer_2_kernel_size': 3, 'MLP_hidden_layer_size': 32}. Best is trial 2 with value: 0.7328217029571533.\n",
      "[I 2024-03-17 18:11:13,810] Trial 3 finished with value: 0.7323548197746277 and parameters: {'epochs': 10, 'lr': 0.02100068694009356, 'conv_layer_1_num_channels': 4, 'conv_layer_1_kernel_size': 5, 'conv_layer_2_num_channels': 4, 'conv_layer_2_kernel_size': 5, 'MLP_hidden_layer_size': 64}. Best is trial 2 with value: 0.7328217029571533.\n",
      "[I 2024-03-17 18:14:52,492] Trial 4 finished with value: 0.723631739616394 and parameters: {'epochs': 20, 'lr': 0.007011870780072231, 'conv_layer_1_num_channels': 4, 'conv_layer_1_kernel_size': 5, 'conv_layer_2_num_channels': 4, 'conv_layer_2_kernel_size': 3, 'MLP_hidden_layer_size': 64}. Best is trial 2 with value: 0.7328217029571533.\n",
      "[I 2024-03-17 18:15:04,714] Trial 5 pruned. \n",
      "[I 2024-03-17 18:15:14,773] Trial 6 pruned. \n",
      "[I 2024-03-17 18:15:24,850] Trial 7 pruned. \n",
      "[I 2024-03-17 18:15:36,780] Trial 8 pruned. \n",
      "[I 2024-03-17 18:15:46,803] Trial 9 pruned. \n",
      "[I 2024-03-17 18:50:31,028] Trial 10 finished with value: 0.7311105728149414 and parameters: {'epochs': 30, 'lr': 0.07260427324801291, 'conv_layer_1_num_channels': 8, 'conv_layer_1_kernel_size': 3, 'conv_layer_2_num_channels': 8, 'conv_layer_2_kernel_size': 3, 'MLP_hidden_layer_size': 32}. Best is trial 2 with value: 0.7328217029571533.\n"
     ]
    }
   ],
   "source": [
    "objective_cnn = Objective_CNN(\n",
    "    data_dir_train=DATA_DIR_TRAIN,\n",
    "    data_dir_validation=DATA_DIR_VALIDATION,\n",
    ")\n",
    "\n",
    "study_cnn = optuna.create_study(direction=\"maximize\")\n",
    "study_cnn.optimize(func=objective_cnn, n_trials=20, timeout=1800, callbacks=[objective_cnn.callback])"
   ]
  },
  {
   "cell_type": "markdown",
   "metadata": {},
   "source": [
    "# Evaluate best CNN model's performance on test set"
   ]
  },
  {
   "cell_type": "code",
   "execution_count": 7,
   "metadata": {},
   "outputs": [
    {
     "name": "stdout",
     "output_type": "stream",
     "text": [
      "Study statistics: \n",
      "  Number of finished trials:  11\n",
      "  Number of pruned trials:  5\n",
      "  Number of complete trials:  6\n",
      "Best trial:\n",
      "  Value:  0.7328217029571533\n",
      "  Params: \n",
      "    epochs: 30\n",
      "    lr: 0.04886979430156351\n",
      "    conv_layer_1_num_channels: 8\n",
      "    conv_layer_1_kernel_size: 3\n",
      "    conv_layer_2_num_channels: 4\n",
      "    conv_layer_2_kernel_size: 3\n",
      "    MLP_hidden_layer_size: 32\n",
      "Accuracy of best model after hyperparameter tuning on test dataset:  0.7373679876327515\n"
     ]
    }
   ],
   "source": [
    "pruned_cnn_trials = study_cnn.get_trials(deepcopy=False, states=[TrialState.PRUNED])\n",
    "complete_cnn_trials = study_cnn.get_trials(deepcopy=False, states=[TrialState.COMPLETE])\n",
    "\n",
    "print(\"Study statistics: \")\n",
    "print(\"  Number of finished trials: \", len(study_cnn.trials))\n",
    "print(\"  Number of pruned trials: \", len(pruned_cnn_trials))\n",
    "print(\"  Number of complete trials: \", len(complete_cnn_trials))\n",
    "\n",
    "print(\"Best trial:\")\n",
    "best_trial_cnn = study_cnn.best_trial\n",
    "\n",
    "print(\"  Value: \", best_trial_cnn.value)\n",
    "\n",
    "print(\"  Params: \")\n",
    "for key, value in best_trial_cnn.params.items():\n",
    "    print(\"    {}: {}\".format(key, value))\n",
    "\n",
    "dataloader_test = get_dataloader(data_dir=DATA_DIR_TEST, batch_size=1024)\n",
    "cnn_accuracy_test = validate_epoch(\n",
    "    model=objective_cnn.best_model,\n",
    "    data_loader=dataloader_test,\n",
    "    device=\"cuda:0\" if torch.cuda.is_available() else \"cpu\",\n",
    ")\n",
    "print(\"Accuracy of best model after hyperparameter tuning on test dataset: \", cnn_accuracy_test)"
   ]
  }
 ],
 "metadata": {
  "kernelspec": {
   "display_name": "csci4969",
   "language": "python",
   "name": "python3"
  },
  "language_info": {
   "codemirror_mode": {
    "name": "ipython",
    "version": 3
   },
   "file_extension": ".py",
   "mimetype": "text/x-python",
   "name": "python",
   "nbconvert_exporter": "python",
   "pygments_lexer": "ipython3",
   "version": "3.10.13"
  }
 },
 "nbformat": 4,
 "nbformat_minor": 2
}
